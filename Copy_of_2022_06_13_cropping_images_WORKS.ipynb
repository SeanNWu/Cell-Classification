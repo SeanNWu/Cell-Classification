{
  "cells": [
    {
      "cell_type": "code",
      "execution_count": null,
      "metadata": {
        "id": "1AMEpAeMJWvO",
        "colab": {
          "base_uri": "https://localhost:8080/"
        },
        "outputId": "ba611b5e-8db8-4a84-f71e-4edf9629717c"
      },
      "outputs": [
        {
          "output_type": "stream",
          "name": "stdout",
          "text": [
            "Mounted at /content/drive\n"
          ]
        }
      ],
      "source": [
        "from google.colab import drive\n",
        "drive.mount('/content/drive')"
      ]
    },
    {
      "cell_type": "code",
      "execution_count": null,
      "metadata": {
        "id": "f6ne2vy4Jbak"
      },
      "outputs": [],
      "source": [
        "import pandas as pd\n",
        "#cell = pd.read_csv(\"/content/drive/MyDrive/labels_ccr-1-stem-1_csv.csv\")\n",
        "cell = pd.read_csv(\"/content/drive/MyDrive/rawimg/labels-ccr (2).csv\")"
      ]
    },
    {
      "cell_type": "code",
      "execution_count": null,
      "metadata": {
        "colab": {
          "base_uri": "https://localhost:8080/"
        },
        "id": "OpLDm26GkpcO",
        "outputId": "1e5c5138-77ed-434a-bbab-169005cdaae2"
      },
      "outputs": [
        {
          "output_type": "stream",
          "name": "stdout",
          "text": [
            "0      1113\n",
            "1      1041\n",
            "2      1165\n",
            "3      1299\n",
            "4       100\n",
            "       ... \n",
            "785     137\n",
            "786      37\n",
            "787     234\n",
            "788    1183\n",
            "789    1342\n",
            "Name: xmin, Length: 790, dtype: int64\n",
            "          label  xmin  ymin  delta_x  delta_y        image_name  total_x  \\\n",
            "0        vessel  1113   517      249      214  Ccr-1-stem-1.png     1600   \n",
            "1        vessel  1041   667      129      122  Ccr-1-stem-1.png     1600   \n",
            "2        vessel  1165   186      272      198  Ccr-1-stem-1.png     1600   \n",
            "3        vessel  1299    12      230      173  Ccr-1-stem-1.png     1600   \n",
            "4    parenchyma   100   248      103       86  Ccr-1-stem-1.png     1600   \n",
            "..          ...   ...   ...      ...      ...               ...      ...   \n",
            "785  parenchyma   137   269      118      119  Rca-3-root-4.png     1600   \n",
            "786  parenchyma    37   442      165      138  Rca-3-root-4.png     1600   \n",
            "787  parenchyma   234   378      116      135  Rca-3-root-4.png     1600   \n",
            "788  parenchyma  1183   611      114      109  Rca-3-root-4.png     1600   \n",
            "789  parenchyma  1342   717      135      165  Rca-3-root-4.png     1600   \n",
            "\n",
            "     total_y species organ  xmax  ymax  \n",
            "0       1200     Ccr  stem  1362   731  \n",
            "1       1200     Ccr  stem  1170   789  \n",
            "2       1200     Ccr  stem  1437   384  \n",
            "3       1200     Ccr  stem  1529   185  \n",
            "4       1200     Ccr  stem   203   334  \n",
            "..       ...     ...   ...   ...   ...  \n",
            "785     1200     Rca  root   255   388  \n",
            "786     1200     Rca  root   202   580  \n",
            "787     1200     Rca  root   350   513  \n",
            "788     1200     Rca  root  1297   720  \n",
            "789     1200     Rca  root  1477   882  \n",
            "\n",
            "[790 rows x 12 columns]\n",
            "vessel\n",
            "1362\n"
          ]
        }
      ],
      "source": [
        "cell['xmax'] = cell['xmin'] + cell['delta_x']\n",
        "cell['ymax'] = cell['ymin'] + cell['delta_y']\n",
        "\n",
        "\n",
        "print(cell['xmin'] )\n",
        "print(cell)\n",
        "print(cell['label'][0])\n",
        "print(cell['xmax'][0])\n"
      ]
    },
    {
      "cell_type": "code",
      "source": [
        "from pathlib import Path\n",
        "from PIL import Image\n",
        "import cv2\n",
        "import os\n",
        "import numpy as np\n",
        "import io\n",
        "from google.colab import files\n",
        "from google.colab import drive\n",
        "\n"
      ],
      "metadata": {
        "id": "NrafXIIbmC2S"
      },
      "execution_count": null,
      "outputs": []
    },
    {
      "cell_type": "code",
      "source": [
        "import csv\n",
        "import random"
      ],
      "metadata": {
        "id": "Ak_2Ao8Ynu3u"
      },
      "execution_count": null,
      "outputs": []
    },
    {
      "cell_type": "code",
      "execution_count": 22,
      "metadata": {
        "id": "uprry5GZmXVR"
      },
      "outputs": [],
      "source": [
        "x = y = z = 0 # Making global variable\n",
        "#open a file\n",
        "#NOTE: be careful with overwriting or running twice, etc.\n",
        "file1 = open('/content/drive/MyDrive/rawimg/sw_croppedimg_index - sw_croppedimg_index (1) - sw_croppedimg_index - sw_croppedimg_index (1).csv','w')\n",
        "file2 = open('/content/drive/MyDrive/rawimg/nonaugfile.csv','w')\n",
        "writer = csv.writer(file1)\n",
        "writer2 = csv.writer(file2)\n",
        "#print(random.randint(1,3))\n",
        "\n",
        "def image_transform(label, xmin, xmax, ymin, ymax, image_name,species):\n",
        "    global x, y, z\n",
        "    # Opens a image in RGB mode\n",
        "    im = Image.open(f\"/content/drive/MyDrive/rawimg/{image_name}\")\n",
        "    \n",
        "    # Setting the points for cropped image/ ask mike about cropping\n",
        "    #transferlearning\n",
        "    left = xmin\n",
        "    top = ymin #should be ymin #was 1200 - ymax\n",
        "    right = xmax\n",
        "    bottom = ymax  #should be ymax #was 1200 - ymin\n",
        "\n",
        "    # Cropped image of above dimension\n",
        "    # (It will not change original image)\n",
        "    im1 = im.crop((left, top, right, bottom))\n",
        "    im1 = im1.resize((128,128))\n",
        "    \n",
        "\n",
        "# Shows the image in image viewer\n",
        "    if label == \"vessel\" : \n",
        "      if(species == \"Ccr\"):\n",
        "    #    im1.save(f\"/content/drive/MyDrive/hhcroppedimg/TestIMGVes/testvessel{x}.png\")\n",
        "        writer2.writerow(['testvessel' + str(x) + '.png',0])\n",
        "        x+=1\n",
        "      else:\n",
        "       # im1.save(f\"/content/drive/MyDrive/hhcroppedimg/Vessels/vessel{x}.png\")\n",
        "        writer.writerow(['vessel' + str(x) + '.png',0])\n",
        "        x+=1\n",
        "    if label == \"parenchyma\":\n",
        "      if(species == \"Ccr\"):\n",
        "      # im1.save(f\"/content/drive/MyDrive/hhcroppedimg/TestImgPar/testparenchyma{y}.png\")\n",
        "        writer2.writerow(['testparenchyma' + str(y) + '.png',1])\n",
        "        y+=1\n",
        "      else:\n",
        "       # im1.save(f\"/content/drive/MyDrive/hhcroppedimg/Parenchyma/parenchyma{y}.png\")\n",
        "        writer.writerow(['parenchyma' + str(y) + '.png',1])\n",
        "     \n",
        "        y+=1\n",
        "    if label == \"fiber\":\n",
        "      if(species == \"Ccr\"):\n",
        "       # im1.save(f\"/content/drive/MyDrive/hhcroppedimg/TestImgFib/testfiber{z}.png\")\n",
        "        writer2.writerow(['testfiber' + str(z) + '.png',1])\n",
        "        z+=1\n",
        "      else:\n",
        "       # im1.save(f\"/content/drive/MyDrive/hhcroppedimg/Fiber/fiber{z}.png\")\n",
        "        writer.writerow(['fiber' + str(z) + '.png',1])\n",
        "        z+=1"
      ]
    },
    {
      "cell_type": "markdown",
      "source": [
        ""
      ],
      "metadata": {
        "id": "FSNmI_cLdFjW"
      }
    },
    {
      "cell_type": "code",
      "source": [
        "#this is a for loop to crop all the images at once\n",
        "#image_transform is the function we defined above\n",
        "#range is a function. \n",
        "#It needs to be the same number (in this case 74) as the number of lines in our csv file.\n",
        "#in brackets, put the label, then put i in brackets (for i... etc)\n",
        "for i in range(790):\n",
        "  image_transform(cell['label'][i],cell['xmin'][i],cell['xmax'][i],cell['ymin'][i],cell['ymax'][i],cell['image_name'][i],cell['species'][i])\n",
        "\n",
        "file1.close()"
      ],
      "metadata": {
        "id": "kQo5z2jxdHai"
      },
      "execution_count": null,
      "outputs": []
    },
    {
      "cell_type": "markdown",
      "source": [
        "data augmentation using keras"
      ],
      "metadata": {
        "id": "QSe-7jryFm1E"
      }
    },
    {
      "cell_type": "code",
      "source": [
        "from keras.preprocessing.image import ImageDataGenerator\n",
        "from skimage import io\n",
        "\n",
        "# Construct an instance of the ImageDataGenerator class\n",
        "# Pass the augmentation parameters through the constructor. \n",
        "\n",
        "datagen = ImageDataGenerator(\n",
        "        rotation_range=90,     #Random rotation between 0 and 45\n",
        "        #width_shift_range=0.2,   #% shift\n",
        "       # height_shift_range=0.2,\n",
        "       # shear_range=0.2,\n",
        "        #zoom_range=0.2,\n",
        "        horizontal_flip=True,)\n",
        "        #fill_mode='reflect', cval=125)    #Also try nearest, constant, reflect, wrap\n",
        "\n",
        "\n",
        "for img in os.listdir('/content/drive/MyDrive/hhcroppedimg/Vessels'):\n",
        "  x = io.imread(os.path.join('/content/drive/MyDrive/hhcroppedimg/Vessels',img))\n",
        "\n",
        "  # Reshape the input image because ...\n",
        "  #x: Input data to datagen.flow must be Numpy array of rank 4 or a tuple.\n",
        "  #First element represents the number of images\n",
        "  x = x.reshape((1, ) + x.shape)  #Array with shape (1, 256, 256, 3)\n",
        "  i = 0\n",
        "  for batch in datagen.flow(x, batch_size=16,  \n",
        "                            save_to_dir='/content/drive/MyDrive/rawimg/augmentedimages/AugVessel', \n",
        "                            save_prefix='augves', \n",
        "                            save_format='png'):\n",
        "      i += 1\n",
        "      if i > 20:\n",
        "          break  # otherwise the generator would loop indefinitely  \n",
        "\n",
        "\n",
        "\n"
      ],
      "metadata": {
        "id": "ppHCWeuDs1Jg"
      },
      "execution_count": 12,
      "outputs": []
    },
    {
      "cell_type": "code",
      "source": [
        "for img in os.listdir('/content/drive/MyDrive/hhcroppedimg/Fiber'):\n",
        "  x = io.imread(os.path.join('/content/drive/MyDrive/hhcroppedimg/Fiber',img))\n",
        "\n",
        "  # Reshape the input image because ...\n",
        "  #x: Input data to datagen.flow must be Numpy array of rank 4 or a tuple.\n",
        "  #First element represents the number of images\n",
        "  x = x.reshape((1, ) + x.shape)  #Array with shape (1, 256, 256, 3)\n",
        "  i = 0\n",
        "  for batch in datagen.flow(x, batch_size=16,  \n",
        "                            save_to_dir='/content/drive/MyDrive/hhcroppedimg/augmentedimages/AugFiber (1)', \n",
        "                            save_prefix='augfib', \n",
        "                            save_format='png'):\n",
        "      i += 1\n",
        "      if i > 30:\n",
        "          break  # otherwise the generator would loop indefinitely  \n"
      ],
      "metadata": {
        "id": "Xtq4hK3_tz6y"
      },
      "execution_count": 14,
      "outputs": []
    },
    {
      "cell_type": "code",
      "source": [
        "for img in os.listdir('/content/drive/MyDrive/hhcroppedimg/Parenchyma'):\n",
        "  x = io.imread(os.path.join('/content/drive/MyDrive/hhcroppedimg/Parenchyma',img))\n",
        "\n",
        "  # Reshape the input image because ...\n",
        "  #x: Input data to datagen.flow must be Numpy array of rank 4 or a tuple.\n",
        "  #First element represents the number of images\n",
        "  x = x.reshape((1, ) + x.shape)  #Array with shape (1, 256, 256, 3)\n",
        "  i = 0\n",
        "  for batch in datagen.flow(x, batch_size=16,  \n",
        "                            save_to_dir='/content/drive/MyDrive/rawimg/augmentedimages/AugParenchyma', \n",
        "                            save_prefix='augpar', \n",
        "                            save_format='png'):\n",
        "      i += 1\n",
        "      if i > 30:\n",
        "          break  # otherwise the generator would loop indefinitely  \n",
        "\n"
      ],
      "metadata": {
        "id": "v2mo-P8PuA6m"
      },
      "execution_count": 15,
      "outputs": []
    },
    {
      "cell_type": "markdown",
      "source": [
        "write csv"
      ],
      "metadata": {
        "id": "gRW2Ay6IFpRT"
      }
    },
    {
      "cell_type": "code",
      "source": [
        "import csv\n",
        "import os\n",
        "\n",
        "file3 = open('/content/drive/MyDrive/rawimg/finalseanwucsv - sw_croppedimg_index - sw_croppedimg_index (1) - sw_croppedimg_index - sw_croppedimg_index (1).csv','a')\n",
        "writer5 = csv.writer(file3)\n",
        "\n"
      ],
      "metadata": {
        "id": "U4yavC0OuL5v"
      },
      "execution_count": 24,
      "outputs": []
    },
    {
      "cell_type": "code",
      "source": [
        "#for img in os.listdir('/content/drive/MyDrive/hhcroppedimg/augmentedimages/AugFiber'):\n",
        " # writer.writerow([str(img),2])\n",
        "\n",
        "for img in os.listdir('/content/drive/MyDrive/rawimg/augmentedimages/AugParenchyma'):\n",
        "  writer5.writerow([str(img),1])\n",
        "for img in os.listdir('/content/drive/MyDrive/hhcroppedimg/augmentedimages/AugFiber (1)'):\n",
        "  writer5.writerow([str(img),1])\n",
        "for img in os.listdir('/content/drive/MyDrive/rawimg/augmentedimages/AugVessel'):\n",
        "  writer5.writerow([str(img),0])"
      ],
      "metadata": {
        "id": "057IoWTVuXz9"
      },
      "execution_count": 26,
      "outputs": []
    },
    {
      "cell_type": "code",
      "source": [
        "#import csv\n",
        "#import os\n",
        "#file1 = open('/content/drive/MyDrive/rawimg/sw_croppedimg_index.csv','a')\n",
        "#writer = csv.writer(file1)\n",
        "\n",
        "#for img in os.listdir('/content/drive/MyDrive/rawimg/augmentedimages/AugVessel'):\n",
        " # writer.writerow([str(img),0])\n"
      ],
      "metadata": {
        "id": "gy7BnanLur4p"
      },
      "execution_count": null,
      "outputs": []
    },
    {
      "cell_type": "code",
      "source": [
        "import csv\n",
        "import os\n",
        "\n",
        "file5 = open('/content/drive/MyDrive/rawimg/nonaugfile.csv','w')\n",
        "writer3 = csv.writer(file5)\n",
        "\n",
        "for img in os.listdir('/content/drive/MyDrive/hhcroppedimg/TestImgPar'):\n",
        "  writer3.writerow([str(img),1])\n",
        "for img in os.listdir('/content/drive/MyDrive/hhcroppedimg/TestImgFib'):\n",
        "  writer3.writerow([str(img),2])\n",
        "for img in os.listdir('/content/drive/MyDrive/hhcroppedimg/TestIMGVes'):\n",
        "  writer3.writerow([str(img),0])\n"
      ],
      "metadata": {
        "id": "jlSU_fLsnsOy"
      },
      "execution_count": null,
      "outputs": []
    }
  ],
  "metadata": {
    "colab": {
      "name": "Copy of 2022_06_13_cropping_images_WORKS.ipynb",
      "provenance": [],
      "collapsed_sections": []
    },
    "kernelspec": {
      "display_name": "Python 3",
      "name": "python3"
    },
    "language_info": {
      "name": "python"
    }
  },
  "nbformat": 4,
  "nbformat_minor": 0
}